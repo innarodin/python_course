{
 "cells": [
  {
   "cell_type": "code",
   "execution_count": 3,
   "metadata": {},
   "outputs": [],
   "source": [
    "from abc import ABC, abstractmethod"
   ]
  },
  {
   "cell_type": "code",
   "execution_count": 108,
   "metadata": {},
   "outputs": [],
   "source": [
    "class Hero:\n",
    "    def __init__(self):\n",
    "        self.positive_effects = []\n",
    "        self.negative_effects = []\n",
    "        \n",
    "        self.stats = {\n",
    "            \"HP\": 128,\n",
    "            \"MP\": 42,\n",
    "            \"SP\": 100,\n",
    "            \n",
    "            \"Strength\": 15,\n",
    "            \"Perception\": 4,\n",
    "            \"Endurance\": 8,\n",
    "            \"Charisma\": 2,\n",
    "            \"Intelligence\": 3,\n",
    "            \"Agility\": 8,\n",
    "            \"Luck\": 1\n",
    "        } \n",
    "        \n",
    "    def get_positive_effects(self):\n",
    "        return self.positive_effects.copy()\n",
    "    \n",
    "    def get_negative_effects(self):\n",
    "        return self.negative_effects.copy()\n",
    "    \n",
    "    def get_stats(self):\n",
    "        return self.stats.copy()"
   ]
  },
  {
   "cell_type": "code",
   "execution_count": 109,
   "metadata": {},
   "outputs": [],
   "source": [
    "class AbstractEffect(Hero, ABC):\n",
    "    def __init__(self, base):\n",
    "        super().__init__()\n",
    "        self.base = base\n",
    "\n",
    "    @abstractmethod\n",
    "    def get_stats(self):\n",
    "        return self.base.get_stats.copy()\n",
    "\n",
    "    def get_positive_effects(self):\n",
    "        return self.base.get_positive_effects()\n",
    "\n",
    "    def get_negative_effects(self):\n",
    "        return self.base.get_negative_effects()"
   ]
  },
  {
   "cell_type": "code",
   "execution_count": 110,
   "metadata": {},
   "outputs": [],
   "source": [
    "class AbstractPositive(AbstractEffect):\n",
    "    def get_positive_effects(self):\n",
    "        positive_effects = self.base.get_positive_effects()\n",
    "        positive_effects.append(self.__class__.__name__)\n",
    "        return positive_effects    \n",
    "\n",
    "    \n",
    "class AbstractNegative(AbstractEffect):\n",
    "    def get_negative_effects(self):\n",
    "        negative_effects = self.base.get_negative_effects()\n",
    "        negative_effects.append(self.__class__.__name__)\n",
    "        return negative_effects"
   ]
  },
  {
   "cell_type": "code",
   "execution_count": 112,
   "metadata": {},
   "outputs": [],
   "source": [
    "class Berserk(AbstractPositive):\n",
    "    \"\"\"Берсерк — Увеличивает параметры Сила, Выносливость, Ловкость, Удача на 7; \n",
    "    уменьшает параметры Восприятие, Харизма, Интеллект на 3.\n",
    "    Количество единиц здоровья увеличивается на 50.\"\"\"\n",
    "    \n",
    "    def get_stats(self):\n",
    "        stats = self.base.get_stats()\n",
    "        keys_up = ['Strength', 'Endurance', 'Agility', 'Luck']\n",
    "        keys_down = ['Perception', 'Charisma', 'Intelligence']\n",
    "        for key in keys_up:\n",
    "            stats[key] += 7\n",
    "        for key in keys_down:\n",
    "            stats[key] -= 3\n",
    "        stats['HP'] += 50\n",
    "        return stats        \n",
    "        \n",
    "        \n",
    "class Blessing(AbstractPositive):\n",
    "    \"\"\"Благословение — Увеличивает все основные характеристики на 2.\n",
    "    К основным характеристикам относятся Сила (Strength), Восприятие (Perception), \n",
    "    Выносливость (Endurance), Харизма (Charisma), Интеллект (Intelligence), Ловкость (Agility), Удача (Luck).\"\"\"\n",
    "    \n",
    "    def get_stats(self):\n",
    "        stats = self.base.get_stats()\n",
    "        keys = ['Strength', 'Perception', 'Endurance', 'Charisma', 'Intelligence', 'Agility', 'Luck']\n",
    "        for key in keys:\n",
    "            stats[key] += 2\n",
    "        return stats\n",
    "          \n",
    "\n",
    "class Weakness(AbstractNegative):\n",
    "    \"\"\"Слабость — Уменьшает параметры Сила, Выносливость, Ловкость на 4.\"\"\"\n",
    "    def get_stats(self):\n",
    "        stats = self.base.get_stats()\n",
    "        keys = ['Strength', 'Endurance', 'Agility']\n",
    "        for key in keys:\n",
    "            stats[key] -= 4\n",
    "        return stats\n",
    "    \n",
    "    \n",
    "class EvilEye(AbstractNegative):\n",
    "    \"\"\"Сглаз — Уменьшает параметр Удача на 10.\"\"\"\n",
    "    def get_stats(self):\n",
    "        stats = self.base.get_stats()\n",
    "        stats[\"Luck\"] -= 10\n",
    "        return stats\n",
    "\n",
    "\n",
    "class Curse(AbstractNegative):\n",
    "    \"\"\"Проклятье — Уменьшает все основные характеристики на 2.\"\"\"\n",
    "    def get_stats(self):\n",
    "        stats = self.base.get_stats()\n",
    "        keys = ['Strength', 'Perception', 'Endurance', 'Charisma', 'Intelligence', 'Agility', 'Luck']\n",
    "        for key in keys:\n",
    "            stats[key] -= 2\n",
    "        return stats\n",
    "\n"
   ]
  },
  {
   "cell_type": "code",
   "execution_count": 113,
   "metadata": {},
   "outputs": [],
   "source": [
    "hero = Hero()"
   ]
  },
  {
   "cell_type": "code",
   "execution_count": 114,
   "metadata": {},
   "outputs": [
    {
     "data": {
      "text/plain": [
       "['Berserk']"
      ]
     },
     "execution_count": 114,
     "metadata": {},
     "output_type": "execute_result"
    }
   ],
   "source": [
    "berserk = Berserk(hero)\n",
    "berserk.get_positive_effects()\n"
   ]
  },
  {
   "cell_type": "code",
   "execution_count": 115,
   "metadata": {},
   "outputs": [
    {
     "data": {
      "text/plain": [
       "{'Agility': 15,\n",
       " 'Charisma': -1,\n",
       " 'Endurance': 15,\n",
       " 'HP': 178,\n",
       " 'Intelligence': 0,\n",
       " 'Luck': 8,\n",
       " 'MP': 42,\n",
       " 'Perception': 1,\n",
       " 'SP': 100,\n",
       " 'Strength': 22}"
      ]
     },
     "execution_count": 115,
     "metadata": {},
     "output_type": "execute_result"
    }
   ],
   "source": [
    "berserk.get_stats()"
   ]
  },
  {
   "cell_type": "code",
   "execution_count": 116,
   "metadata": {},
   "outputs": [
    {
     "data": {
      "text/plain": [
       "{'Agility': 17,\n",
       " 'Charisma': 1,\n",
       " 'Endurance': 17,\n",
       " 'HP': 178,\n",
       " 'Intelligence': 2,\n",
       " 'Luck': 10,\n",
       " 'MP': 42,\n",
       " 'Perception': 3,\n",
       " 'SP': 100,\n",
       " 'Strength': 24}"
      ]
     },
     "execution_count": 116,
     "metadata": {},
     "output_type": "execute_result"
    }
   ],
   "source": [
    "blessing = Blessing(berserk)\n",
    "blessing.get_positive_effects()\n",
    "blessing.get_stats()"
   ]
  },
  {
   "cell_type": "code",
   "execution_count": 117,
   "metadata": {},
   "outputs": [
    {
     "data": {
      "text/plain": [
       "['Berserk', 'Blessing']"
      ]
     },
     "execution_count": 117,
     "metadata": {},
     "output_type": "execute_result"
    }
   ],
   "source": [
    "blessing.get_positive_effects()"
   ]
  },
  {
   "cell_type": "code",
   "execution_count": 118,
   "metadata": {},
   "outputs": [],
   "source": [
    "curse = Curse(blessing)"
   ]
  },
  {
   "cell_type": "code",
   "execution_count": 120,
   "metadata": {},
   "outputs": [
    {
     "data": {
      "text/plain": [
       "['Berserk', 'Blessing']"
      ]
     },
     "execution_count": 120,
     "metadata": {},
     "output_type": "execute_result"
    }
   ],
   "source": [
    "curse.get_positive_effects()"
   ]
  },
  {
   "cell_type": "code",
   "execution_count": 122,
   "metadata": {},
   "outputs": [
    {
     "data": {
      "text/plain": [
       "{'Agility': 15,\n",
       " 'Charisma': -1,\n",
       " 'Endurance': 15,\n",
       " 'HP': 178,\n",
       " 'Intelligence': 0,\n",
       " 'Luck': 8,\n",
       " 'MP': 42,\n",
       " 'Perception': 1,\n",
       " 'SP': 100,\n",
       " 'Strength': 22}"
      ]
     },
     "execution_count": 122,
     "metadata": {},
     "output_type": "execute_result"
    }
   ],
   "source": [
    "curse.get_stats()"
   ]
  },
  {
   "cell_type": "code",
   "execution_count": null,
   "metadata": {},
   "outputs": [],
   "source": []
  }
 ],
 "metadata": {
  "kernelspec": {
   "display_name": "Python 3",
   "language": "python",
   "name": "python3"
  },
  "language_info": {
   "codemirror_mode": {
    "name": "ipython",
    "version": 3
   },
   "file_extension": ".py",
   "mimetype": "text/x-python",
   "name": "python",
   "nbconvert_exporter": "python",
   "pygments_lexer": "ipython3",
   "version": "3.5.2"
  }
 },
 "nbformat": 4,
 "nbformat_minor": 2
}
