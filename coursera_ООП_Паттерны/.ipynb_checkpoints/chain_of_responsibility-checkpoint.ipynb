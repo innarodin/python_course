{
 "cells": [
  {
   "cell_type": "markdown",
   "metadata": {},
   "source": [
    "# Паттерн Цепочка обязанностей"
   ]
  },
  {
   "cell_type": "markdown",
   "metadata": {},
   "source": [
    "Вам дан объект класса SomeObject, содержащего три поля: integer_field, float_field и string_field:"
   ]
  },
  {
   "cell_type": "code",
   "execution_count": 5,
   "metadata": {},
   "outputs": [],
   "source": [
    "class SomeObject:\n",
    "    def __init__(self):\n",
    "        self.integer_field = 0\n",
    "        self.float_field = 0.0\n",
    "        self.string_field = \"\""
   ]
  },
  {
   "cell_type": "markdown",
   "metadata": {},
   "source": [
    "Необходимо реализовать:\n",
    "\n",
    "    EventGet(<type>) создаёт событие получения данных соответствующего типа\n",
    "    EventSet(<value>) создаёт событие изменения поля типа type(<value>)\n",
    "\n",
    "Необходимо реализовать классы NullHandler, IntHandler, FloatHandler, StrHandler так, чтобы можно было создать цепочку:"
   ]
  },
  {
   "cell_type": "code",
   "execution_count": 23,
   "metadata": {},
   "outputs": [],
   "source": [
    "chain = IntHandler(FloatHandler(StrHandler(NullHandler())))"
   ]
  },
  {
   "cell_type": "markdown",
   "metadata": {},
   "source": [
    "    Chain.handle(obj, EventGet(int)) — вернуть значение obj.integer_field\n",
    "    Chain.handle(obj, EventGet(str)) — вернуть значение obj.string_field\n",
    "    Chain.handle(obj, EventGet(float)) — вернуть значение obj.float_field\n",
    "    Chain.handle(obj, EventSet(1)) — установить значение obj.integer_field =1\n",
    "    Chain.handle(obj, EventSet(1.1)) — установить значение obj.float_field = 1.1\n",
    "    Chain.handle(obj, EventSet(\"str\")) — установить значение obj.string_field = \"str\""
   ]
  },
  {
   "cell_type": "code",
   "execution_count": 6,
   "metadata": {},
   "outputs": [],
   "source": [
    "E_INT, E_FLOAT, E_STR = \"INT\", \"FLOAT\", \"STR\"\n",
    "\n",
    "\n",
    "class EventGet:\n",
    "    def __init__(self, prop):\n",
    "        self.kind = {int:E_INT, float:E_FLOAT, str:E_STR}[prop];\n",
    "        self.prop = None;\n",
    "\n",
    "\n",
    "class EventSet:\n",
    "    def __init__(self, prop):\n",
    "        self.kind = {int:E_INT, float:E_FLOAT, str:E_STR}[type(prop)];\n",
    "        self.prop = prop;"
   ]
  },
  {
   "cell_type": "code",
   "execution_count": 18,
   "metadata": {},
   "outputs": [],
   "source": [
    "class NullHandler:\n",
    "    def __init__(self, successor=None):\n",
    "        self.__successor = successor\n",
    "\n",
    "    def handle(self, obj, event):\n",
    "        if self.__successor is not None:\n",
    "            return self.__successor.handle(obj, event)  \n",
    "\n",
    "\n",
    "class IntHandler(NullHandler):\n",
    "    def handle(self, obj, event):\n",
    "        if event.kind == E_INT:\n",
    "            if event.prop is None:\n",
    "                return obj.integer_field\n",
    "            else:\n",
    "                obj.integer_field = event.prop;\n",
    "        else:\n",
    "            return super().handle(obj, event)\n",
    "\n",
    "\n",
    "class StrHandler(NullHandler):\n",
    "    def handle(self, obj, event):\n",
    "        if event.kind == E_STR:\n",
    "            if event.prop is None:\n",
    "                return obj.string_field\n",
    "            else:\n",
    "                obj.string_field = event.prop;\n",
    "        else:\n",
    "            return super().handle(obj, event)\n",
    "\n",
    "\n",
    "class FloatHandler(NullHandler):\n",
    "    def handle(self, obj, event):\n",
    "        if event.kind == E_FLOAT:\n",
    "            if event.prop is None:\n",
    "                return obj.float_field\n",
    "            else:\n",
    "                obj.float_field = event.prop;\n",
    "        else:\n",
    "            return super().handle(obj, event)"
   ]
  },
  {
   "cell_type": "code",
   "execution_count": 19,
   "metadata": {},
   "outputs": [],
   "source": [
    "Chain = IntHandler(FloatHandler(StrHandler(NullHandler())))\n",
    "obj = SomeObject()"
   ]
  },
  {
   "cell_type": "code",
   "execution_count": 24,
   "metadata": {},
   "outputs": [],
   "source": [
    "Chain.handle(obj, EventSet(1.1))"
   ]
  },
  {
   "cell_type": "code",
   "execution_count": 21,
   "metadata": {},
   "outputs": [
    {
     "data": {
      "text/plain": [
       "1.1"
      ]
     },
     "execution_count": 21,
     "metadata": {},
     "output_type": "execute_result"
    }
   ],
   "source": [
    "Chain.handle(obj, EventGet(float))"
   ]
  },
  {
   "cell_type": "code",
   "execution_count": null,
   "metadata": {},
   "outputs": [],
   "source": []
  }
 ],
 "metadata": {
  "kernelspec": {
   "display_name": "Python 3",
   "language": "python",
   "name": "python3"
  },
  "language_info": {
   "codemirror_mode": {
    "name": "ipython",
    "version": 3
   },
   "file_extension": ".py",
   "mimetype": "text/x-python",
   "name": "python",
   "nbconvert_exporter": "python",
   "pygments_lexer": "ipython3",
   "version": "3.5.2"
  }
 },
 "nbformat": 4,
 "nbformat_minor": 2
}
