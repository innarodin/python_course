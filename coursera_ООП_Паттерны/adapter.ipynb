{
 "cells": [
  {
   "cell_type": "code",
   "execution_count": 76,
   "metadata": {},
   "outputs": [],
   "source": [
    "class Light:\n",
    "    def __init__(self, dim):\n",
    "        self.dim = dim\n",
    "        self.grid = [[0 for i in range(dim[0])] for _ in range(dim[1])]\n",
    "        self.lights = []\n",
    "        self.obstacles = []\n",
    "        \n",
    "    def set_dim(self, dim):\n",
    "        self.dim = dim\n",
    "#         print(self.dim)\n",
    "        self.grid = [[0 for i in range(dim[0])] for _ in range(dim[1])]\n",
    "    \n",
    "    def set_lights(self, lights):\n",
    "        self.lights = lights\n",
    "#         print(self.lights)\n",
    "        self.generate_lights()\n",
    "    \n",
    "    def set_obstacles(self, obstacles):\n",
    "        self.obstacles = obstacles\n",
    "#         print(self.obstacles)\n",
    "        self.generate_lights()\n",
    "        \n",
    "    def generate_lights(self):\n",
    "        return self.grid.copy()    \n",
    "    \n",
    "    \n",
    "class System:\n",
    "    def __init__(self):\n",
    "        self.map = self.grid = [[0 for i in range(30)] for _ in range(20)]\n",
    "        self.map[5][7] = 1 # Источники света\n",
    "        self.map[15][17] = 1 # Источники света\n",
    "        self.map[5][2] = -1 # Стены\n",
    "    \n",
    "    def get_lightening(self, light_mapper):\n",
    "        self.lightmap = light_mapper.lighten(self.map)        \n",
    "        \n",
    "        \n",
    "class MappingAdapter:\n",
    "    def __init__(self, adaptee):\n",
    "        self.adaptee = adaptee\n",
    "\n",
    "    def _get_objects_by_grid(self, descriptor, grid):\n",
    "        result = []\n",
    "        for i in range(len(grid)):\n",
    "            for j in range(len(grid[0])):\n",
    "                if grid[i][j] == descriptor:\n",
    "                    result.append((j, i))\n",
    "        return result\n",
    "\n",
    "    def lighten(self, grid):\n",
    "        dim = (len(grid[0]), len(grid))\n",
    "        self.adaptee.set_dim(dim)\n",
    "        lights = self._get_objects_by_grid(1, grid)\n",
    "        obstacles = self._get_objects_by_grid(-1, grid)\n",
    "        self.adaptee.set_lights(lights)\n",
    "        self.adaptee.set_obstacles(obstacles)\n",
    "        return self.adaptee.generate_lights()"
   ]
  },
  {
   "cell_type": "code",
   "execution_count": 77,
   "metadata": {},
   "outputs": [],
   "source": [
    "system = System()\n",
    "new_lighter = MappingAdapter(Light((0, 0)))\n",
    "system.get_lightening(new_lighter)"
   ]
  },
  {
   "cell_type": "code",
   "execution_count": null,
   "metadata": {},
   "outputs": [],
   "source": []
  },
  {
   "cell_type": "code",
   "execution_count": 37,
   "metadata": {},
   "outputs": [],
   "source": [
    "\n",
    "\n"
   ]
  },
  {
   "cell_type": "code",
   "execution_count": null,
   "metadata": {},
   "outputs": [],
   "source": []
  },
  {
   "cell_type": "code",
   "execution_count": null,
   "metadata": {},
   "outputs": [],
   "source": []
  }
 ],
 "metadata": {
  "kernelspec": {
   "display_name": "Python 3",
   "language": "python",
   "name": "python3"
  },
  "language_info": {
   "codemirror_mode": {
    "name": "ipython",
    "version": 3
   },
   "file_extension": ".py",
   "mimetype": "text/x-python",
   "name": "python",
   "nbconvert_exporter": "python",
   "pygments_lexer": "ipython3",
   "version": "3.5.2"
  }
 },
 "nbformat": 4,
 "nbformat_minor": 2
}
